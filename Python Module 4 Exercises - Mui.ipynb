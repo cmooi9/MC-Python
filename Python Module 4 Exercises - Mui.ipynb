{
 "cells": [
  {
   "cell_type": "markdown",
   "metadata": {},
   "source": [
    "Exercise 1: Make an empty list and call it names"
   ]
  },
  {
   "cell_type": "code",
   "execution_count": 1,
   "metadata": {},
   "outputs": [],
   "source": [
    "names = []"
   ]
  },
  {
   "cell_type": "markdown",
   "metadata": {},
   "source": [
    "Exercise 2: Make names filled with names of 5 people: Hannah, Victor, Sam, James, Sarah"
   ]
  },
  {
   "cell_type": "code",
   "execution_count": 2,
   "metadata": {},
   "outputs": [
    {
     "name": "stdout",
     "output_type": "stream",
     "text": [
      "['Hannah', 'Victor', 'Sam', 'James', 'Sarah']\n"
     ]
    }
   ],
   "source": [
    "for name in ['Hannah', 'Victor', 'Sam', 'James', 'Sarah']:\n",
    "    names.append(name)\n",
    "print(names)"
   ]
  },
  {
   "cell_type": "markdown",
   "metadata": {},
   "source": [
    "Exercise 3: Make names sort in reverse. Print out the list using a for-loop"
   ]
  },
  {
   "cell_type": "code",
   "execution_count": 3,
   "metadata": {},
   "outputs": [
    {
     "name": "stdout",
     "output_type": "stream",
     "text": [
      "Victor\n",
      "Sarah\n",
      "Sam\n",
      "James\n",
      "Hannah\n"
     ]
    }
   ],
   "source": [
    "names_reverse = sorted(names, reverse=True)\n",
    "#print(names_reverse)\n",
    "for name in names_reverse:\n",
    "    print(name)"
   ]
  },
  {
   "cell_type": "markdown",
   "metadata": {},
   "source": [
    "Exercise 4: Make names sorted alphabetically. Print out the list using while loop"
   ]
  },
  {
   "cell_type": "code",
   "execution_count": 7,
   "metadata": {},
   "outputs": [
    {
     "name": "stdout",
     "output_type": "stream",
     "text": [
      "['Hannah', 'James', 'Sam', 'Sarah', 'Victor']\n",
      "Continue (y/n): y\n",
      "['Hannah', 'James', 'Sam', 'Sarah', 'Victor']\n",
      "Continue (y/n): n\n"
     ]
    }
   ],
   "source": [
    "names_alphabetically = sorted(names)\n",
    "x = 'y'\n",
    "while x == 'y':\n",
    "    print(names_alphabetically)\n",
    "    x = input('Continue (y/n): ')"
   ]
  },
  {
   "cell_type": "markdown",
   "metadata": {},
   "source": [
    "Exercise 5: Pull out the fourth item from names and print it out"
   ]
  },
  {
   "cell_type": "code",
   "execution_count": 11,
   "metadata": {},
   "outputs": [
    {
     "name": "stdout",
     "output_type": "stream",
     "text": [
      "James\n"
     ]
    }
   ],
   "source": [
    "print(names[3])"
   ]
  },
  {
   "cell_type": "markdown",
   "metadata": {},
   "source": [
    "Exercise 6: Pull out the first item from names and print it out"
   ]
  },
  {
   "cell_type": "code",
   "execution_count": 12,
   "metadata": {},
   "outputs": [
    {
     "name": "stdout",
     "output_type": "stream",
     "text": [
      "Hannah\n"
     ]
    }
   ],
   "source": [
    "print(names[0])"
   ]
  },
  {
   "cell_type": "markdown",
   "metadata": {},
   "source": [
    "Exercise 7: Make a variable named fruits that contains a string \"Apples, Oranges, Bananas, Pineapples, Persimmons, Dragonfruit\" and make it into a list splitting it by the commas."
   ]
  },
  {
   "cell_type": "code",
   "execution_count": 14,
   "metadata": {},
   "outputs": [
    {
     "name": "stdout",
     "output_type": "stream",
     "text": [
      "['Apples', ' Oranges', ' Bananas', ' Pineapples', ' Persimmons', ' Dragonfruit']\n"
     ]
    }
   ],
   "source": [
    "fruits = 'Apples, Oranges, Bananas, Pineapples, Persimmons, Dragonfruit'\n",
    "for fruit in fruits:\n",
    "    fruits_lst = fruits.split(',')\n",
    "print(fruits_lst)"
   ]
  },
  {
   "cell_type": "markdown",
   "metadata": {},
   "source": [
    "Exercise 8: Create a list of the first 10 square numbers. i.e. the square of each integer from 1 to 10. "
   ]
  },
  {
   "cell_type": "code",
   "execution_count": 21,
   "metadata": {},
   "outputs": [
    {
     "name": "stdout",
     "output_type": "stream",
     "text": [
      "square of each integer from 1 to 10: [1, 4, 9, 16, 25, 36, 49, 64, 81, 100]\n"
     ]
    }
   ],
   "source": [
    "square_numbers = []\n",
    "for i in range(10):\n",
    "    x = (i+1)**2\n",
    "    square_numbers.append(x)\n",
    "print('square of each integer from 1 to 10:', square_numbers)"
   ]
  },
  {
   "cell_type": "markdown",
   "metadata": {},
   "source": [
    "Exercise 9: Create a multiplication table from 1 to 10"
   ]
  },
  {
   "cell_type": "code",
   "execution_count": 37,
   "metadata": {},
   "outputs": [
    {
     "name": "stdout",
     "output_type": "stream",
     "text": [
      "1*1=1\n",
      "1*2=2\n",
      "1*3=3\n",
      "1*4=4\n",
      "1*5=5\n",
      "1*6=6\n",
      "1*7=7\n",
      "1*8=8\n",
      "1*9=9\n",
      "1*10=10\n",
      "********************\n",
      "2*1=2\n",
      "2*2=4\n",
      "2*3=6\n",
      "2*4=8\n",
      "2*5=10\n",
      "2*6=12\n",
      "2*7=14\n",
      "2*8=16\n",
      "2*9=18\n",
      "2*10=20\n",
      "********************\n",
      "3*1=3\n",
      "3*2=6\n",
      "3*3=9\n",
      "3*4=12\n",
      "3*5=15\n",
      "3*6=18\n",
      "3*7=21\n",
      "3*8=24\n",
      "3*9=27\n",
      "3*10=30\n",
      "********************\n",
      "4*1=4\n",
      "4*2=8\n",
      "4*3=12\n",
      "4*4=16\n",
      "4*5=20\n",
      "4*6=24\n",
      "4*7=28\n",
      "4*8=32\n",
      "4*9=36\n",
      "4*10=40\n",
      "********************\n",
      "5*1=5\n",
      "5*2=10\n",
      "5*3=15\n",
      "5*4=20\n",
      "5*5=25\n",
      "5*6=30\n",
      "5*7=35\n",
      "5*8=40\n",
      "5*9=45\n",
      "5*10=50\n",
      "********************\n",
      "6*1=6\n",
      "6*2=12\n",
      "6*3=18\n",
      "6*4=24\n",
      "6*5=30\n",
      "6*6=36\n",
      "6*7=42\n",
      "6*8=48\n",
      "6*9=54\n",
      "6*10=60\n",
      "********************\n",
      "7*1=7\n",
      "7*2=14\n",
      "7*3=21\n",
      "7*4=28\n",
      "7*5=35\n",
      "7*6=42\n",
      "7*7=49\n",
      "7*8=56\n",
      "7*9=63\n",
      "7*10=70\n",
      "********************\n",
      "8*1=8\n",
      "8*2=16\n",
      "8*3=24\n",
      "8*4=32\n",
      "8*5=40\n",
      "8*6=48\n",
      "8*7=56\n",
      "8*8=64\n",
      "8*9=72\n",
      "8*10=80\n",
      "********************\n",
      "9*1=9\n",
      "9*2=18\n",
      "9*3=27\n",
      "9*4=36\n",
      "9*5=45\n",
      "9*6=54\n",
      "9*7=63\n",
      "9*8=72\n",
      "9*9=81\n",
      "9*10=90\n",
      "********************\n",
      "10*1=10\n",
      "10*2=20\n",
      "10*3=30\n",
      "10*4=40\n",
      "10*5=50\n",
      "10*6=60\n",
      "10*7=70\n",
      "10*8=80\n",
      "10*9=90\n",
      "10*10=100\n",
      "********************\n"
     ]
    }
   ],
   "source": [
    "\n",
    "for i in range(10):\n",
    "    multiply_by = 0\n",
    "    for d in range(10):\n",
    "        multiply_by += 1\n",
    "        #print(multiply_by)\n",
    "        y = (i+1)\n",
    "        x = (y)*(multiply_by)\n",
    "        print(f'{y}*{multiply_by}={x}')\n",
    "    print('*'*20)"
   ]
  },
  {
   "cell_type": "markdown",
   "metadata": {},
   "source": [
    "Exercise 10: Write a program that gets test scores from a user and then calculates and displays the average of the scores that have been enter. The output of the program should show the original scores and the average. "
   ]
  },
  {
   "cell_type": "code",
   "execution_count": 43,
   "metadata": {},
   "outputs": [
    {
     "name": "stdout",
     "output_type": "stream",
     "text": [
      "Enter your test score/Do you want to continue(y/n): 90\n",
      "Enter your test score/Do you want to continue(y/n): 80\n",
      "Enter your test score/Do you want to continue(y/n): 50\n",
      "Enter your test score/Do you want to continue(y/n): n\n",
      "Original Scores: [90, 80, 50]\n",
      "Average: 73.33333333333333\n"
     ]
    }
   ],
   "source": [
    "total_score = []\n",
    "total = 0\n",
    "count = 0\n",
    "score = 'y'\n",
    "while score != 'n':\n",
    "    score = input('Enter your test score/Do you want to continue(y/n): ')\n",
    "    try:\n",
    "        number_score = int(score)\n",
    "        total_score.append(number_score)\n",
    "        count += 1\n",
    "        total = total + number_score\n",
    "    except:\n",
    "        score = score\n",
    "print('Original Scores:', total_score)\n",
    "print('Average:', total/count)"
   ]
  },
  {
   "cell_type": "markdown",
   "metadata": {},
   "source": [
    "Challenge:\n",
    "Write a program that maintains a list of movies, and the user can list all the movies, add a movie to the list, or delete a movie from the list.\n",
    "\n",
    "Example\n",
    "\n",
    "###### COMMAND MENU\n",
    "```\n",
    "list - list all movies\n",
    "add - add a movie\n",
    "del - delete a movie\n",
    "exit - exit program \n",
    "```\n",
    "\n",
    "###### Command: list\n",
    "``` \n",
    " 1. Toy Story\n",
    " 2. Lion King\n",
    " 3. Frozen\n",
    " ```\n",
    "\n",
    "###### Command: add\n",
    " ```\n",
    " Name: Snow White\n",
    " Snow White was added.\n",
    " ```\n",
    "\n",
    "###### Command: del\n",
    "```\n",
    " Number: 3\n",
    " Frozen was deleted.```\n",
    "\n"
   ]
  },
  {
   "cell_type": "code",
   "execution_count": 7,
   "metadata": {},
   "outputs": [
    {
     "name": "stdout",
     "output_type": "stream",
     "text": [
      "COMMAND MENU:\n",
      "\n",
      "\t\"list\" - list all movies\n",
      "\t\"add\" - add a movie\n",
      "\t\"del\" - delete a movie\n",
      "\t\"exit\" - exit program \n",
      "\n",
      "COMMAND: add\n",
      "NAME: Toy Story\n",
      "Toy Story was added.\n",
      "                    \n",
      "COMMAND: add\n",
      "NAME: Lion King\n",
      "Lion King was added.\n",
      "                    \n",
      "COMMAND: add\n",
      "NAME: Frozen\n",
      "Frozen was added.\n",
      "                    \n",
      "COMMAND: list\n",
      "1. Toy Story\n",
      "2. Lion King\n",
      "3. Frozen\n",
      "                    \n",
      "COMMAND: add\n",
      "NAME: Snow White\n",
      "Snow White was added.\n",
      "                    \n",
      "COMMAND: list\n",
      "1. Toy Story\n",
      "2. Lion King\n",
      "3. Frozen\n",
      "4. Snow White\n",
      "                    \n",
      "COMMAND: del\n",
      "Number: 3\n",
      "Frozen was deleted.\n",
      "                    \n",
      "COMMAND: list\n",
      "1. Toy Story\n",
      "2. Lion King\n",
      "3. Snow White\n",
      "                    \n",
      "COMMAND: exit\n"
     ]
    }
   ],
   "source": [
    "movies_lst = []\n",
    "action = 0\n",
    "count = 0\n",
    "\n",
    "print( 'COMMAND MENU:\\n')\n",
    "print('\\t\"list\" - list all movies')\n",
    "print('\\t\"add\" - add a movie')\n",
    "print('\\t\"del\" - delete a movie')\n",
    "print('\\t\"exit\" - exit program \\n')\n",
    "\n",
    "while action != 'exit':\n",
    "    action = input('COMMAND: ')\n",
    "    if action == 'list':\n",
    "        #print('COMMAND: list movies available')\n",
    "        for movie in movies_lst:\n",
    "            count += 1\n",
    "            print(f'{count}. {movie}')\n",
    "        print(' '*20)\n",
    "        continue\n",
    "    if action == 'add':\n",
    "        #print('COMMAND: add')\n",
    "        movie_to_add = input('NAME: ')\n",
    "        movies_lst.append(movie_to_add)\n",
    "        print(f'{movie_to_add} was added.')\n",
    "        count = 0\n",
    "        print(' '*20)\n",
    "        continue\n",
    "    if action == 'del':\n",
    "        #print('COMMAND: del')\n",
    "        movie_to_del = int(input('Number: '))\n",
    "        x = movies_lst.pop(movie_to_del-1)\n",
    "        print(f'{x} was deleted.')\n",
    "        count = 0\n",
    "        print(' '*20)\n",
    "        continue\n",
    "    if action == 'exit':\n",
    "        action == 'exit'\n",
    "        \n",
    "    "
   ]
  },
  {
   "cell_type": "code",
   "execution_count": null,
   "metadata": {},
   "outputs": [],
   "source": []
  }
 ],
 "metadata": {
  "kernelspec": {
   "display_name": "Python 3",
   "language": "python",
   "name": "python3"
  },
  "language_info": {
   "codemirror_mode": {
    "name": "ipython",
    "version": 3
   },
   "file_extension": ".py",
   "mimetype": "text/x-python",
   "name": "python",
   "nbconvert_exporter": "python",
   "pygments_lexer": "ipython3",
   "version": "3.8.8"
  }
 },
 "nbformat": 4,
 "nbformat_minor": 4
}
