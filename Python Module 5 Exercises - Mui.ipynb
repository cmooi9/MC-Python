{
 "cells": [
  {
   "cell_type": "markdown",
   "metadata": {},
   "source": [
    "1. Create a dictionary named pairs with key value pairs of hello and fire, 3 and seven, strong and 45. Print out the dictionary."
   ]
  },
  {
   "cell_type": "code",
   "execution_count": 1,
   "metadata": {},
   "outputs": [
    {
     "name": "stdout",
     "output_type": "stream",
     "text": [
      "{'hello': 'fire', 3: 7, 'strong': 45}\n"
     ]
    }
   ],
   "source": [
    "pairs = {'hello':'fire', 3:7, 'strong':45}\n",
    "print(pairs)"
   ]
  },
  {
   "cell_type": "markdown",
   "metadata": {},
   "source": [
    "2. Add welcome and 56 pair into pairs dictionary. Print out the dictionary. "
   ]
  },
  {
   "cell_type": "code",
   "execution_count": 2,
   "metadata": {},
   "outputs": [
    {
     "name": "stdout",
     "output_type": "stream",
     "text": [
      "{'hello': 'fire', 3: 7, 'strong': 45, 'welcome': 56}\n"
     ]
    }
   ],
   "source": [
    "pairs['welcome'] = 56\n",
    "print(pairs)"
   ]
  },
  {
   "cell_type": "markdown",
   "metadata": {},
   "source": [
    "3. Delete one item from the Dictionary. Print deleted item and the dictionary."
   ]
  },
  {
   "cell_type": "code",
   "execution_count": 3,
   "metadata": {},
   "outputs": [
    {
     "name": "stdout",
     "output_type": "stream",
     "text": [
      "{'hello': 'fire', 3: 7, 'welcome': 56}\n"
     ]
    }
   ],
   "source": [
    "new_pairs = pairs.pop('strong')\n",
    "print(pairs)"
   ]
  },
  {
   "cell_type": "markdown",
   "metadata": {},
   "source": [
    "4. Print the value of an item where key is 3 from the dicitonary"
   ]
  },
  {
   "cell_type": "code",
   "execution_count": 8,
   "metadata": {},
   "outputs": [
    {
     "name": "stdout",
     "output_type": "stream",
     "text": [
      "56\n"
     ]
    }
   ],
   "source": [
    "print(pairs['welcome'])"
   ]
  },
  {
   "cell_type": "markdown",
   "metadata": {},
   "source": [
    "5. Try to find out if the key called hello exist. Print out the key is found if it is there otherwise print out the key is not there."
   ]
  },
  {
   "cell_type": "code",
   "execution_count": 13,
   "metadata": {},
   "outputs": [
    {
     "name": "stdout",
     "output_type": "stream",
     "text": [
      "True\n",
      "'hello' exists\n"
     ]
    }
   ],
   "source": [
    "print('hello' in pairs)\n",
    "if 'hello' in pairs:\n",
    "    print(\"'hello' exists\")\n",
    "else:\n",
    "    print('Unknown')"
   ]
  },
  {
   "cell_type": "markdown",
   "metadata": {},
   "source": [
    "6. Loop through the dictionary and print out each value. "
   ]
  },
  {
   "cell_type": "code",
   "execution_count": 14,
   "metadata": {},
   "outputs": [
    {
     "name": "stdout",
     "output_type": "stream",
     "text": [
      "fire\n",
      "7\n",
      "56\n"
     ]
    }
   ],
   "source": [
    "for value in pairs.values():\n",
    "    print(value)"
   ]
  },
  {
   "cell_type": "markdown",
   "metadata": {},
   "source": [
    "7. Loop through the dictionary and print out each key."
   ]
  },
  {
   "cell_type": "code",
   "execution_count": 15,
   "metadata": {},
   "outputs": [
    {
     "name": "stdout",
     "output_type": "stream",
     "text": [
      "hello\n",
      "3\n",
      "welcome\n"
     ]
    }
   ],
   "source": [
    "for key in pairs.keys():\n",
    "    print(key)"
   ]
  },
  {
   "cell_type": "markdown",
   "metadata": {},
   "source": [
    "8. Loop through the dictionary and print out each key and value pair. "
   ]
  },
  {
   "cell_type": "code",
   "execution_count": 16,
   "metadata": {},
   "outputs": [
    {
     "name": "stdout",
     "output_type": "stream",
     "text": [
      "hello fire\n",
      "3 7\n",
      "welcome 56\n"
     ]
    }
   ],
   "source": [
    "for key,value in pairs.items():\n",
    "    print(key,value)"
   ]
  },
  {
   "cell_type": "markdown",
   "metadata": {},
   "source": [
    "9. Make a nested dictionary called parent with 2 children's information: name, age, gender. Print out parent."
   ]
  },
  {
   "cell_type": "code",
   "execution_count": 17,
   "metadata": {},
   "outputs": [
    {
     "name": "stdout",
     "output_type": "stream",
     "text": [
      "{'child1': {'name': 'Christine', 'age': 26, 'gender': 'female'}, 'child2': {'name': 'Vivian', 'age': 24, 'gender': 'female'}}\n"
     ]
    }
   ],
   "source": [
    "parent = {\n",
    "    'child1' : {\n",
    "    'name'   : 'Christine',\n",
    "    'age'    : 26,\n",
    "    'gender' : 'female'\n",
    "    },\n",
    "    'child2' : {\n",
    "    'name'   : 'Vivian',\n",
    "    'age'    : 24,\n",
    "    'gender' : 'female'\n",
    "    }\n",
    "}\n",
    "print(parent)"
   ]
  },
  {
   "cell_type": "markdown",
   "metadata": {},
   "source": [
    "10. Add new child to above dictionary. Print out the name of all children."
   ]
  },
  {
   "cell_type": "code",
   "execution_count": 19,
   "metadata": {},
   "outputs": [
    {
     "name": "stdout",
     "output_type": "stream",
     "text": [
      "{'child1': {'name': 'Christine', 'age': 26, 'gender': 'female'}, 'child2': {'name': 'Vivian', 'age': 24, 'gender': 'female'}, 'child3': {'name': 'Benny', 'age': 17, 'gender': 'male'}}\n"
     ]
    }
   ],
   "source": [
    "parent['child3'] = {\n",
    "    'name'   : 'Benny',\n",
    "    'age'    : 17,\n",
    "    'gender' : 'male'\n",
    "}\n",
    "print(parent)"
   ]
  },
  {
   "cell_type": "markdown",
   "metadata": {},
   "source": [
    "11. Create a Test Scores program that gets the name of students and test score from a user. Then, generate a list of students who passed and a list of students who failed where passing test score is 60 or above. "
   ]
  },
  {
   "cell_type": "code",
   "execution_count": 10,
   "metadata": {},
   "outputs": [
    {
     "name": "stdout",
     "output_type": "stream",
     "text": [
      "Name of Student: Alice\n",
      "Test score: 90\n",
      "Name of Student: Bob\n",
      "Test score: 30\n",
      "Name of Student: Ryan\n",
      "Test score: 76\n",
      "Name of Student: Leah\n",
      "Test score: 10\n",
      "Name of Student: Danny\n",
      "Test score: 78\n",
      "Name of Student: done\n",
      "\n",
      "PASSED:\n",
      "Alice 90\n",
      "Ryan 76\n",
      "Danny 78\n",
      "\n",
      "FAILED:\n",
      "Bob 30\n",
      "Leah 10\n"
     ]
    }
   ],
   "source": [
    "dic = {}\n",
    "good = []\n",
    "bad = []\n",
    "name = 'hello'\n",
    "\n",
    "while name != 'done':\n",
    "    name = input('Name of Student: ')\n",
    "    if name == 'done':\n",
    "        break\n",
    "    score = int(input('Test score: '))\n",
    "\n",
    "    if name not in dic:\n",
    "        dic[name] = score\n",
    "        #print(dic)\n",
    "    \n",
    "print()\n",
    "print('PASSED:')    \n",
    "for key,value in dic.items():\n",
    "    if value >= 60:\n",
    "        print(key,value)\n",
    "        \n",
    "print()\n",
    "print('FAILED:')\n",
    "for key,value in dic.items():\n",
    "    if value < 60:\n",
    "        print(key,value)\n"
   ]
  },
  {
   "cell_type": "markdown",
   "metadata": {},
   "source": [
    "12. Create a Word Counter program that gets a string of text from a user and then counts the number of times a word occrs in the string. \n",
    "\n",
    "The output should look something like this:\n",
    "\n",
    "    The Word Counter Program\n",
    "    \n",
    "    Enter a text string: \n",
    "    Humpty Dumpty sat on a wall, Humpty Dumpty had a great fall. All the king’s horses and all the king’s men couldn’t put Humpty together again.\n",
    "\n",
    "    a : 2\n",
    "    again : 1\n",
    "    all : 2\n",
    "    and : 1\n",
    "    couldn’t : 1\n",
    "    dumpty : 2\n",
    "    fall : 1\n",
    "    great : 1\n",
    "    had : 1\n",
    "    horses : 1\n",
    "    humpty : 3\n",
    "    king’s : 2\n",
    "    men : 1\n",
    "    on : 1\n",
    "    put : 1\n",
    "    sat : 1\n",
    "    the : 2\n",
    "    together : 1\n",
    "    wall : 1\n",
    "\n",
    "    There were total 26 words in the text string   "
   ]
  },
  {
   "cell_type": "code",
   "execution_count": 28,
   "metadata": {},
   "outputs": [
    {
     "name": "stdout",
     "output_type": "stream",
     "text": [
      "The Word Counter Program\n",
      "\n",
      "Enter a text string:     Humpty Dumpty sat on a wall, Humpty Dumpty had a great fall. All the king’s horses and all the king’s men couldn’t put Humpty together again.\n",
      "\n",
      "a : 2\n",
      "again. : 1\n",
      "all : 2\n",
      "and : 1\n",
      "couldn’t : 1\n",
      "dumpty : 2\n",
      "fall. : 1\n",
      "great : 1\n",
      "had : 1\n",
      "horses : 1\n",
      "humpty : 3\n",
      "king’s : 2\n",
      "men : 1\n",
      "on : 1\n",
      "put : 1\n",
      "sat : 1\n",
      "the : 2\n",
      "together : 1\n",
      "wall, : 1\n",
      "\n",
      "There were 26 words in the text string\n"
     ]
    }
   ],
   "source": [
    "count = {}\n",
    "total = 0\n",
    "lst = []\n",
    "print('The Word Counter Program\\n')\n",
    "\n",
    "txt = input('Enter a text string: ')\n",
    "print()\n",
    "\n",
    "words = txt.lower().split()\n",
    "#print(word)\n",
    "for word in words:\n",
    "    total = total + 1\n",
    "    count[word] = count.get(word,0) + 1\n",
    "#for key,values in count.items():\n",
    "#    print(key,values)\n",
    "\n",
    "lst = count.items()\n",
    "#for items in sorted(lst):\n",
    "    #print(items)                     prints list of tuples of word and count of each word\n",
    "    \n",
    "for key,value in sorted(lst):\n",
    "    print(f'{key} : {value}')\n",
    "\n",
    "print()\n",
    "print(f'There were {total} words in the text string')\n",
    "    "
   ]
  },
  {
   "cell_type": "code",
   "execution_count": null,
   "metadata": {},
   "outputs": [],
   "source": [
    "how to remove punctuation?"
   ]
  },
  {
   "cell_type": "code",
   "execution_count": null,
   "metadata": {},
   "outputs": [],
   "source": []
  }
 ],
 "metadata": {
  "kernelspec": {
   "display_name": "Python 3",
   "language": "python",
   "name": "python3"
  },
  "language_info": {
   "codemirror_mode": {
    "name": "ipython",
    "version": 3
   },
   "file_extension": ".py",
   "mimetype": "text/x-python",
   "name": "python",
   "nbconvert_exporter": "python",
   "pygments_lexer": "ipython3",
   "version": "3.8.8"
  }
 },
 "nbformat": 4,
 "nbformat_minor": 4
}
