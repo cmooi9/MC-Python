{
 "cells": [
  {
   "cell_type": "markdown",
   "metadata": {},
   "source": [
    "1. Print out a data type of a variable?"
   ]
  },
  {
   "cell_type": "code",
   "execution_count": 3,
   "metadata": {},
   "outputs": [
    {
     "data": {
      "text/plain": [
       "float"
      ]
     },
     "execution_count": 3,
     "metadata": {},
     "output_type": "execute_result"
    }
   ],
   "source": [
    "x = 1.2\n",
    "type(x)"
   ]
  },
  {
   "cell_type": "markdown",
   "metadata": {},
   "source": [
    "2. Round 4.5667 to the nearest hundreth using a build-in function, round()."
   ]
  },
  {
   "cell_type": "code",
   "execution_count": 7,
   "metadata": {},
   "outputs": [
    {
     "data": {
      "text/plain": [
       "4.57"
      ]
     },
     "execution_count": 7,
     "metadata": {},
     "output_type": "execute_result"
    }
   ],
   "source": [
    "x = 4.5667\n",
    "round(x,2)"
   ]
  },
  {
   "cell_type": "markdown",
   "metadata": {},
   "source": [
    "3. Convert \"657\" to an integer data type"
   ]
  },
  {
   "cell_type": "code",
   "execution_count": 3,
   "metadata": {},
   "outputs": [
    {
     "name": "stdout",
     "output_type": "stream",
     "text": [
      "<class 'str'>\n"
     ]
    },
    {
     "data": {
      "text/plain": [
       "int"
      ]
     },
     "execution_count": 3,
     "metadata": {},
     "output_type": "execute_result"
    }
   ],
   "source": [
    "x = '657'\n",
    "print(type(x))\n",
    "y = int(x)\n",
    "type(y)"
   ]
  },
  {
   "cell_type": "markdown",
   "metadata": {},
   "source": [
    "4. Write a function to calculate the miles per gallon.\n",
    "Get a miles driven and gallons used from a user and call your function to calculate the miles per gallon. "
   ]
  },
  {
   "cell_type": "code",
   "execution_count": 2,
   "metadata": {},
   "outputs": [
    {
     "name": "stdout",
     "output_type": "stream",
     "text": [
      "Enter miles driven: 10\n",
      "Enter gallons of gas used: .5\n",
      "Miles Per Gallon:  20.0\n"
     ]
    }
   ],
   "source": [
    "def calculation(miles, gallons):\n",
    "    calculation = miles / gallons\n",
    "    print('Miles Per Gallon: ', calculation)\n",
    "    \n",
    "distance = input('Enter miles driven: ')\n",
    "gas = input('Enter gallons of gas used: ')\n",
    "\n",
    "miles = float(distance)\n",
    "gallons = float(gas)\n",
    "\n",
    "calculation(miles, gallons)"
   ]
  },
  {
   "cell_type": "markdown",
   "metadata": {},
   "source": [
    "5. Enhance your function from exercise 3. Additionally, get a gas price per gallon from a user and write a program to compute the total gas cost and cost per mile. \n",
    "\n",
    "The output should look something like this:\n",
    "\n",
    "    Enter miles driven:            150\n",
    "    Enter gallons of gas used:     15\n",
    "    Enter cost per gallon:          3\n",
    "\n",
    "    Miles Per Gallon:   10.0\n",
    "    Total Gas Cost:     45.0\n",
    "    Cost per Mile:      0.3\n"
   ]
  },
  {
   "cell_type": "code",
   "execution_count": 38,
   "metadata": {},
   "outputs": [
    {
     "name": "stdout",
     "output_type": "stream",
     "text": [
      "Enter miles driven: 150\n",
      "Enter gallons of gas used: 10\n",
      "Enter cost per gallon: 40\n",
      "Miles Per Gallon:  15.0\n",
      "Total Gas Cost:  400.0\n",
      "Cost per Mile:  2.6666666666666665\n"
     ]
    }
   ],
   "source": [
    "def calculation(miles, gallons):\n",
    "    calculation = miles / gallons\n",
    "    print('Miles Per Gallon: ', calculation)\n",
    "def total_gas_cost(gallons, cost):\n",
    "    total_gas_cost = gallons * cost\n",
    "    print('Total Gas Cost: ', total_gas_cost)\n",
    "    return total_gas_cost \n",
    "def cost_per_mile(total_gas_cost, miles):\n",
    "    total_gas_cost = gallons * cost\n",
    "    cost_per_mile = total_gas_cost / miles\n",
    "    print('Cost per Mile: ', cost_per_mile)\n",
    "distance = input('Enter miles driven: ')\n",
    "gas = input('Enter gallons of gas used: ')\n",
    "money = input('Enter cost per gallon: ')\n",
    "\n",
    "miles = float(distance)\n",
    "gallons = float(gas)\n",
    "cost = int(money)\n",
    "\n",
    "calculation(miles, gallons)\n",
    "total_gas_cost(gallons, cost)\n",
    "cost_per_mile(total_gas_cost, miles)\n"
   ]
  },
  {
   "cell_type": "markdown",
   "metadata": {},
   "source": [
    "6. Write a function called multiply_two() that accepts two parameters. The function should print a message like '15 + 2 = 17'.  Randomly generate two numbers between 1 and 100, then call the function with the two random numbers."
   ]
  },
  {
   "cell_type": "code",
   "execution_count": 16,
   "metadata": {},
   "outputs": [
    {
     "name": "stdout",
     "output_type": "stream",
     "text": [
      "69 * 76 = 5244\n"
     ]
    }
   ],
   "source": [
    "import random as rand\n",
    "def multiply_two(x,y):\n",
    "    multiply_two = x * y\n",
    "    print(f\"{x} * {y} = {multiply_two}\")\n",
    "    \n",
    "x = rand.randint(1,100)\n",
    "y = rand.randint(1,100)\n",
    "\n",
    "multiply_two(x,y)"
   ]
  },
  {
   "cell_type": "markdown",
   "metadata": {},
   "source": [
    "7. Write a function called make_shirt() that accepts a size and the text of a message. The function should print a sentence summarizing the size of the shirt and the message printed on it. The default shirt size is large and default message is 'I love Python!' Make a default size shirt with a message, a medium shirt with the default message, and a shirt of any size with a different message."
   ]
  },
  {
   "cell_type": "code",
   "execution_count": 24,
   "metadata": {},
   "outputs": [
    {
     "name": "stdout",
     "output_type": "stream",
     "text": [
      "Do you want a small, medium or large shirt: small\n",
      "What message do you want on the shirt: hi\n",
      "The size of the shirt is small with the message hi.\n"
     ]
    }
   ],
   "source": [
    "def make_shirt(size = 'large', text = 'I love Python!') :\n",
    "    print(f'The size of the shirt is {size} with the message {text}.')\n",
    "    \n",
    "size = input(\"Do you want a small, medium or large shirt: \")\n",
    "text = input(\"What message do you want on the shirt: \")\n",
    "\n",
    "make_shirt(size, text)"
   ]
  },
  {
   "cell_type": "code",
   "execution_count": 34,
   "metadata": {},
   "outputs": [
    {
     "name": "stdout",
     "output_type": "stream",
     "text": [
      "Do you want a small, medium or large shirt: large\n",
      "What message do you want on the shirt: hi\n",
      "Order Statement\n",
      "Size of Shirt and message: large hi\n",
      "Do you want a small, medium or large shirt: medium\n",
      "What message do you want on the shirt: I love Python!\n",
      "Order Statement\n",
      "Size of Shirt and message: medium I love Python!\n",
      "Do you want a small, medium or large shirt: small\n",
      "What message do you want on the shirt: 2\n",
      "Order Statement\n",
      "Size of Shirt and message: small 2\n"
     ]
    }
   ],
   "source": [
    "for i in range(3):\n",
    "    size = input(\"Do you want a small, medium or large shirt: \")\n",
    "    message = input(\"What message do you want on the shirt: \")\n",
    "    make_shirt = size + \" \" + message\n",
    "    print('Order Statement')\n",
    "    print(f\"Size of Shirt and message: {make_shirt}\")"
   ]
  },
  {
   "cell_type": "markdown",
   "metadata": {},
   "source": [
    "8. Create a function for a multiplication table.  Get a number from a user and then call you function which produces a multiplication table for that number.\n",
    "The output should look something like this:\n",
    "\n",
    "        Enter a number: 3\n",
    "        3 X 1 = 3\n",
    "        3 X 2 = 6\n",
    "        3 X 3 = 9\n",
    "        3 X 4 = 12\n",
    "        3 X 5 = 15\n",
    "        3 X 6 = 18\n",
    "        3 X 7 = 21\n",
    "        3 X 8 = 24\n",
    "        3 X 9 = 27\n",
    "        "
   ]
  },
  {
   "cell_type": "code",
   "execution_count": 27,
   "metadata": {},
   "outputs": [
    {
     "name": "stdout",
     "output_type": "stream",
     "text": [
      "Enter a number: 3\n",
      "3 X 1 = 3\n",
      "3 X 2 = 6\n",
      "3 X 3 = 9\n",
      "3 X 4 = 12\n",
      "3 X 5 = 15\n",
      "3 X 6 = 18\n",
      "3 X 7 = 21\n",
      "3 X 8 = 24\n",
      "3 X 9 = 27\n"
     ]
    }
   ],
   "source": [
    "def multiplication_table(numb):\n",
    "    for i in range(1,10):\n",
    "        num = int(numb)\n",
    "        ans = num * i\n",
    "        print(f\"{num} X {i} = {ans}\")\n",
    "        \n",
    "numb = input('Enter a number: ')\n",
    "multiplication_table(numb)"
   ]
  },
  {
   "cell_type": "markdown",
   "metadata": {},
   "source": [
    "9. Write a function that accepts a string and returns a string that is \n",
    "    - without any leading nor trailing blanks\n",
    "    - converts to all capital letters\n",
    "    - and replaces all blanks with a period(.).  \n",
    "\n",
    "Write a program to accept a string from a user then call your function and display the original string and changed string.  \n",
    "\n",
    "The output should look something like this:\n",
    "\n",
    "        Enter a text: may your dreams come true\n",
    "        \n",
    "        Original Text: may your dreams come true\n",
    "        New Text: MAY.YOUR.DREAMS.COME.TRUE"
   ]
  },
  {
   "cell_type": "code",
   "execution_count": 29,
   "metadata": {},
   "outputs": [
    {
     "name": "stdout",
     "output_type": "stream",
     "text": [
      "Enter a text:  may your dreams come true \n",
      "Original Text:  may your dreams come true \n",
      "New Text: MAY.YOUR.DREAMS.COME.TRUE\n"
     ]
    }
   ],
   "source": [
    "def new_string(text):\n",
    "    new = text.strip().upper().replace(\" \", \".\")\n",
    "    print('New Text:', new)\n",
    "    \n",
    "text = input('Enter a text: ')\n",
    "\n",
    "print('Original Text:', text)\n",
    "new_string(text)\n"
   ]
  },
  {
   "cell_type": "markdown",
   "metadata": {},
   "source": [
    "10. Write a function that returns a randomly selected character from a passed string. Write a program to accept a string from a user then call your function and display the original string and selected character.\n",
    "\n",
    "The output should look something like this:\n",
    "\n",
    "        Enter a text: functions\n",
    "        Original Text:\tfunctions\n",
    "        Random character:\ts"
   ]
  },
  {
   "cell_type": "code",
   "execution_count": 31,
   "metadata": {},
   "outputs": [
    {
     "name": "stdout",
     "output_type": "stream",
     "text": [
      "Enter a text: functions\n",
      "Original Text: functions\n",
      "Random character: f\n"
     ]
    }
   ],
   "source": [
    "import random as rand\n",
    "\n",
    "def char(text) :\n",
    "    characters = len(text)\n",
    "    num = rand.randint(0,characters)\n",
    "    char = text[num]\n",
    "    print(f'Random character: {char}')\n",
    "\n",
    "text = input('Enter a text: ')\n",
    "print('Original Text:', text)\n",
    "char(text)\n"
   ]
  },
  {
   "cell_type": "code",
   "execution_count": null,
   "metadata": {},
   "outputs": [],
   "source": []
  }
 ],
 "metadata": {
  "kernelspec": {
   "display_name": "Python 3",
   "language": "python",
   "name": "python3"
  },
  "language_info": {
   "codemirror_mode": {
    "name": "ipython",
    "version": 3
   },
   "file_extension": ".py",
   "mimetype": "text/x-python",
   "name": "python",
   "nbconvert_exporter": "python",
   "pygments_lexer": "ipython3",
   "version": "3.8.8"
  }
 },
 "nbformat": 4,
 "nbformat_minor": 4
}
