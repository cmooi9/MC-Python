{
 "cells": [
  {
   "cell_type": "markdown",
   "metadata": {},
   "source": [
    "Exercise 1. Ask for a color and store that answer. \n",
    "If the answer is grey then print out you found Victor's favorite color.\n",
    "Otherwise print out the color is not Victor's favorite color."
   ]
  },
  {
   "cell_type": "code",
   "execution_count": 18,
   "metadata": {},
   "outputs": [
    {
     "name": "stdout",
     "output_type": "stream",
     "text": [
      "What color? grey\n",
      "Victor's favorite color is grey\n"
     ]
    }
   ],
   "source": [
    "color = input('What color? ')\n",
    "if color == 'grey' :\n",
    "    print(\"Victor's favorite color is grey\")\n",
    "else:\n",
    "    print(color, \"is not Victor's favorite color\")"
   ]
  },
  {
   "cell_type": "markdown",
   "metadata": {},
   "source": [
    "Exercise 2. Modify code from above exercise 1 and add in more conditions for other colors such as red, green, blue and then, write statements for them. "
   ]
  },
  {
   "cell_type": "code",
   "execution_count": 10,
   "metadata": {},
   "outputs": [
    {
     "name": "stdout",
     "output_type": "stream",
     "text": [
      "What color? blue\n",
      "blue is a calm color\n"
     ]
    }
   ],
   "source": [
    "color = input('What color? ')\n",
    "if color == 'grey' :\n",
    "    print(\"Victor's favorite color is grey\")\n",
    "elif color == 'red' :\n",
    "    print('red is an angry color')\n",
    "elif color == 'blue' :\n",
    "    print('blue is a calm color')\n",
    "elif color == 'green' :\n",
    "    print(\"My favorite color is green\")\n",
    "elif color != 'grey' :\n",
    "    print(color, \"is not Victor's favorite color\")"
   ]
  },
  {
   "cell_type": "markdown",
   "metadata": {},
   "source": [
    "Exercise 3. Ask for an exam score and store that number. If the number is greater than 100, then print out 'You cannot have an exam score higher than 100'. If the number doesn't exceeed 100 but is greater than or equal to 75, then print out 'You did great on your exam!'. Otherwise if they scored lower than 75, then print out 'You need to study harder'."
   ]
  },
  {
   "cell_type": "code",
   "execution_count": 16,
   "metadata": {},
   "outputs": [
    {
     "name": "stdout",
     "output_type": "stream",
     "text": [
      "What was your exam score: 65\n",
      "You need to study harder\n"
     ]
    }
   ],
   "source": [
    "st_score = input('What was your exam score: ')\n",
    "score = int(st_score)\n",
    "if score < 100 and score >= 75:\n",
    "    print('You did great on your exam!')\n",
    "elif score < 75:\n",
    "    print('You need to study harder')\n",
    "elif score > 100:\n",
    "        print('You cannot have an exam score higher than 100')"
   ]
  },
  {
   "cell_type": "markdown",
   "metadata": {},
   "source": [
    "Exercise 4. \n",
    "Define two functions: \n",
    "    - a function that takes 3 arguements and returns the sum of three arguements\n",
    "    - a function that takes 2 arguements and returns the result of 1st arguement multiplied by 2nd arguement\n",
    "\n",
    "Then tell the user to choose option 1 to add three numbers or option 2 to multiply two numbers.\n",
    "If the user choose option 1 then call the addition function, otherwise if they choose option 2 then call the mulitplication function.  If the user choose anything other than option 1 or 2, then generate a friendly error messsage"
   ]
  },
  {
   "cell_type": "code",
   "execution_count": 23,
   "metadata": {},
   "outputs": [
    {
     "name": "stdout",
     "output_type": "stream",
     "text": [
      "Enter a number: 1\n",
      "Enter a number: 2\n",
      "Enter a number: 3\n",
      "Would you like to add or multiply: hi\n",
      "error, please select \"add\" or \"multiply\"\n"
     ]
    }
   ],
   "source": [
    "def add(x,y,z):\n",
    "    sum = x + y + z\n",
    "    print(sum)\n",
    "    return sum\n",
    "def multiply(x,y):\n",
    "    product = x * y\n",
    "    print(product)\n",
    "    return product\n",
    "\n",
    "x = int(input('Enter a number: ' ))\n",
    "y = int(input('Enter a number: ' ))\n",
    "z = int(input('Enter a number: ' ))\n",
    "\n",
    "option = input('Would you like to add or multiply: ')\n",
    "\n",
    "if option == 'add' :\n",
    "    add(x,y,z)\n",
    "elif option == 'multiply' :\n",
    "    multiply(x,y)\n",
    "else:\n",
    "    print('error, please select \"add\" or \"multiply\"')\n",
    "    quit()"
   ]
  },
  {
   "cell_type": "markdown",
   "metadata": {},
   "source": [
    "Exercise 5. \n",
    "Write a function to convert a test score to a grade where  \n",
    " - 90 - 100: A\n",
    " - 80 - 89:  B\n",
    " - 70 - 79:  C\n",
    " - 60 - 69:  D\n",
    " - < 60   :  F\n",
    " \n",
    "If a score is not between 0 and 100 then print out an error message. In the program, ask the user for a score and then call your function. "
   ]
  },
  {
   "cell_type": "code",
   "execution_count": 8,
   "metadata": {},
   "outputs": [
    {
     "name": "stdout",
     "output_type": "stream",
     "text": [
      "Enter your score: -1\n",
      "error. enter a score between 0 to 100\n"
     ]
    }
   ],
   "source": [
    "score = int(input('Enter your score: '))\n",
    "if score >= 90 and score <= 100:\n",
    "    print('A')\n",
    "elif score >= 80 and score <= 89:\n",
    "    print('B')\n",
    "elif score >= 70 and score <= 79:\n",
    "    print('C')\n",
    "elif score >= 60 and score <= 69:\n",
    "    print('D')\n",
    "elif score >=0 and score < 60:\n",
    "    print('F')\n",
    "else:\n",
    "    print('error. enter a score between 0 to 100')"
   ]
  },
  {
   "cell_type": "markdown",
   "metadata": {},
   "source": [
    "Exercise 6. Write a program to compute discounts for customers.  \n",
    "- For retail customers, \n",
    "    - if invoice total is greater than \\$100 then discount rate is 10\\%, otherwise no discount \n",
    "\n",
    "- For wholesale customers,\n",
    "    - if invoice total is greater than \\$500 then discount rate is 30\\%, otherwise discount rate is 20\\%\n",
    "    \n",
    "Get the type of customer and the invoice total from the user."
   ]
  },
  {
   "cell_type": "code",
   "execution_count": 19,
   "metadata": {},
   "outputs": [
    {
     "name": "stdout",
     "output_type": "stream",
     "text": [
      "What is the invoice total: 501\n",
      "Are you a \"retail\" or \"wholesale\" customer: wholesale\n",
      "You get a 30% discount, your total is: $350.70\n"
     ]
    }
   ],
   "source": [
    "total = float(input('What is the invoice total: '))\n",
    "customer = input('Are you a \"retail\" or \"wholesale\" customer: ')\n",
    "\n",
    "if customer == 'retail' :\n",
    "    if total <= 100 :\n",
    "        total = total\n",
    "        print('no discount available. please spend more than $100')\n",
    "    else:\n",
    "        total = total - (total*.1)\n",
    "        print(f'You get a 10% discount, your total is: ${total:.2f}')\n",
    "        \n",
    "if customer == 'wholesale' :\n",
    "    if total > 500 :\n",
    "        total = total - (total*.3)\n",
    "        print(f'You get a 30% discount, your total is: ${total:.2f}')\n",
    "    else:\n",
    "        total = total - (total*.2)\n",
    "        print(f'You get a 20% discount, your total is: ${total:.2f}')\n",
    "    "
   ]
  },
  {
   "cell_type": "markdown",
   "metadata": {},
   "source": [
    "Exercise 7: Write a function that accepts two parameters (a and b) and returns a result of a/b.  In this function, try to catch any exception error.  Then, write a program to get two numbers from a user, call your function using these two numbers, and print out the result in a friendly format.  All input and print statements must be done in the main program. Repeat the process until user wants to quit the program. "
   ]
  },
  {
   "cell_type": "code",
   "execution_count": 12,
   "metadata": {},
   "outputs": [
    {
     "name": "stdout",
     "output_type": "stream",
     "text": [
      "Provide first number: 1\n",
      "Provide second number: 10\n",
      "1/10 =  0.1\n"
     ]
    }
   ],
   "source": [
    "def division(a,b):\n",
    "    try:\n",
    "        a = int(a)\n",
    "        b = int(b)\n",
    "        result = a/b\n",
    "        return result\n",
    "    except:\n",
    "        print('Not a number. Please provide a number.')\n",
    "        quit()\n",
    "\n",
    "a = input('Provide first number: ')\n",
    "b = input('Provide second number: ')\n",
    "\n",
    "result = division(a,b)\n",
    "print(f'{a}/{b} = ', result)"
   ]
  },
  {
   "cell_type": "markdown",
   "metadata": {},
   "source": [
    "Exercise 8: Write a function to generate a multiplication table. Then write a program to ask a user if user wants to generate a  mutiplication table for a random number or provide a number. The program should continue to run until a user wants to quit."
   ]
  },
  {
   "cell_type": "code",
   "execution_count": 7,
   "metadata": {},
   "outputs": [
    {
     "name": "stdout",
     "output_type": "stream",
     "text": [
      "Would you like to generate the multiplication table for a \"random\" number or \"provide\" a number:provide\n",
      "What number: 1\n",
      "1 X 0 = 0\n",
      "1 X 1 = 1\n",
      "1 X 2 = 2\n",
      "1 X 3 = 3\n",
      "1 X 4 = 4\n",
      "1 X 5 = 5\n",
      "1 X 6 = 6\n",
      "1 X 7 = 7\n",
      "1 X 8 = 8\n",
      "1 X 9 = 9\n",
      "would you like to try again? (yes or no): yes\n",
      "Would you like to generate the multiplication table for a \"random\" number or \"provide\" a number:random\n",
      "0.8341142916038343 X 0 = 0.0\n",
      "0.8341142916038343 X 1 = 0.8341142916038343\n",
      "0.8341142916038343 X 2 = 1.6682285832076686\n",
      "0.8341142916038343 X 3 = 2.502342874811503\n",
      "0.8341142916038343 X 4 = 3.3364571664153373\n",
      "0.8341142916038343 X 5 = 4.170571458019172\n",
      "0.8341142916038343 X 6 = 5.004685749623006\n",
      "0.8341142916038343 X 7 = 5.838800041226841\n",
      "0.8341142916038343 X 8 = 6.672914332830675\n",
      "0.8341142916038343 X 9 = 7.507028624434509\n",
      "would you like to try again? (yes or no): no\n"
     ]
    }
   ],
   "source": [
    "import random as rand\n",
    "\n",
    "def multiplication(y):\n",
    "    for i in range(10):\n",
    "        print(f\"{y} X {i} =\", y*i)\n",
    "\n",
    "choice = 'yes'\n",
    "while choice == 'yes':\n",
    "    x = input('Would you like to generate the multiplication table for a \"random\" number or \"provide\" a number:')\n",
    "    if x == 'random':\n",
    "        y = rand.random()\n",
    "        z = multiplication(y)\n",
    "\n",
    "    elif x == 'provide':\n",
    "        y = int(input('What number: '))\n",
    "        z = multiplication(y)\n",
    "\n",
    "    choice = input('would you like to try again? (yes or no): ')"
   ]
  },
  {
   "cell_type": "code",
   "execution_count": 1,
   "metadata": {},
   "outputs": [
    {
     "name": "stdout",
     "output_type": "stream",
     "text": [
      "Would you like to generate the multiplication table for a \"random\" number or \"provide\" a number:provide\n",
      "What number: 1\n",
      "1 X 0 = 0\n",
      "1 X 1 = 1\n",
      "1 X 2 = 2\n",
      "1 X 3 = 3\n",
      "1 X 4 = 4\n",
      "1 X 5 = 5\n",
      "1 X 6 = 6\n",
      "1 X 7 = 7\n",
      "1 X 8 = 8\n",
      "1 X 9 = 9\n",
      "Would you like to generate the multiplication table for a \"random\" number or \"provide\" a number:dsf\n",
      "Would you like to generate the multiplication table for a \"random\" number or \"provide\" a number:random\n",
      "0.47029844065832305 X 0 = 0.0\n",
      "0.47029844065832305 X 1 = 0.47029844065832305\n",
      "0.47029844065832305 X 2 = 0.9405968813166461\n",
      "0.47029844065832305 X 3 = 1.4108953219749691\n",
      "0.47029844065832305 X 4 = 1.8811937626332922\n",
      "0.47029844065832305 X 5 = 2.351492203291615\n",
      "0.47029844065832305 X 6 = 2.8217906439499383\n",
      "0.47029844065832305 X 7 = 3.2920890846082616\n",
      "0.47029844065832305 X 8 = 3.7623875252665844\n",
      "0.47029844065832305 X 9 = 4.232685965924907\n",
      "Would you like to generate the multiplication table for a \"random\" number or \"provide\" a number:2\n",
      "Would you like to generate the multiplication table for a \"random\" number or \"provide\" a number:provide\n",
      "What number: 2\n",
      "2 X 0 = 0\n",
      "2 X 1 = 2\n",
      "2 X 2 = 4\n",
      "2 X 3 = 6\n",
      "2 X 4 = 8\n",
      "2 X 5 = 10\n",
      "2 X 6 = 12\n",
      "2 X 7 = 14\n",
      "2 X 8 = 16\n",
      "2 X 9 = 18\n",
      "Would you like to generate the multiplication table for a \"random\" number or \"provide\" a number:quit\n",
      "done\n"
     ]
    }
   ],
   "source": [
    "import random as rand\n",
    "\n",
    "def multiplication(y):\n",
    "    for i in range(10):\n",
    "        print(f\"{y} X {i} =\", y*i)\n",
    "    \n",
    "while True:\n",
    "    x = input('Would you like to generate the multiplication table for a \"random\" number or \"provide\" a number:')\n",
    "\n",
    "    if x == 'random':\n",
    "        y = rand.random()\n",
    "        z = multiplication(y)\n",
    "\n",
    "    elif x == 'provide':\n",
    "        y = int(input('What number: '))\n",
    "        z = multiplication(y)\n",
    "    \n",
    "    elif x == 'quit': \n",
    "        print('done')\n",
    "        break\n",
    "\n"
   ]
  },
  {
   "cell_type": "markdown",
   "metadata": {},
   "source": [
    "Exercise 9: Write a function to draw a right-triangle using a number as a character.Then, write a program to generate a random number between 1 and 9, call your function with that random number.  The output should look something like this:\n",
    "\n",
    "        base: 5\n",
    "        5\n",
    "        55\n",
    "        555\n",
    "        5555\n",
    "        55555\n",
    "\n",
    "\n",
    "        base: 8\n",
    "        8\n",
    "        88\n",
    "        888\n",
    "        8888\n",
    "        88888\n",
    "        888888\n",
    "        8888888\n",
    "        88888888"
   ]
  },
  {
   "cell_type": "code",
   "execution_count": 5,
   "metadata": {},
   "outputs": [
    {
     "name": "stdout",
     "output_type": "stream",
     "text": [
      "base = 7\n",
      "\n",
      "7\n",
      "77\n",
      "777\n",
      "7777\n",
      "77777\n",
      "777777\n",
      "7777777\n"
     ]
    }
   ],
   "source": [
    "import random as rand\n",
    "\n",
    "def triangle(numb) :\n",
    "    print('base =', numb)\n",
    "    numb = int(numb)\n",
    "    for i in range(numb+1):\n",
    "        print(str(numb)*i)\n",
    "\n",
    "numb = rand.randint(1,9)\n",
    "triangle(numb)"
   ]
  },
  {
   "cell_type": "markdown",
   "metadata": {},
   "source": [
    "Exercise 10: Modify function from exercise 9 to show output like this:\n",
    "\n",
    "        base: 5\n",
    "            5\n",
    "           55\n",
    "          555\n",
    "         5555 \n",
    "        55555\n",
    "        \n",
    "        base: 8\n",
    "               8\n",
    "              88\n",
    "             888\n",
    "            8888\n",
    "           88888\n",
    "          888888\n",
    "         8888888\n",
    "        88888888 "
   ]
  },
  {
   "cell_type": "code",
   "execution_count": 4,
   "metadata": {},
   "outputs": [
    {
     "name": "stdout",
     "output_type": "stream",
     "text": [
      "base = 9\n",
      "          \n",
      "         9\n",
      "        99\n",
      "       999\n",
      "      9999\n",
      "     99999\n",
      "    999999\n",
      "   9999999\n",
      "  99999999\n",
      " 999999999\n"
     ]
    }
   ],
   "source": [
    "import random as rand\n",
    "\n",
    "def triangle(numb) :\n",
    "    print('base =', numb)\n",
    "    numb = int(numb)\n",
    "    for i in range(numb+1):\n",
    "        print(' '*(numb-i), str(numb)*i)\n",
    "\n",
    "numb = rand.randint(1,9)\n",
    "triangle(numb)"
   ]
  },
  {
   "cell_type": "code",
   "execution_count": null,
   "metadata": {},
   "outputs": [],
   "source": []
  }
 ],
 "metadata": {
  "kernelspec": {
   "display_name": "Python 3",
   "language": "python",
   "name": "python3"
  },
  "language_info": {
   "codemirror_mode": {
    "name": "ipython",
    "version": 3
   },
   "file_extension": ".py",
   "mimetype": "text/x-python",
   "name": "python",
   "nbconvert_exporter": "python",
   "pygments_lexer": "ipython3",
   "version": "3.8.8"
  }
 },
 "nbformat": 4,
 "nbformat_minor": 4
}
